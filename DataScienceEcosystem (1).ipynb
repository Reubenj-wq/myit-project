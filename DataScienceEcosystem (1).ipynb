{
 "cells": [
  {
   "cell_type": "markdown",
   "id": "08af04f0-4223-4859-b497-40a869326ced",
   "metadata": {},
   "source": [
    "# Project 1 - IBM Data Science( Creating a Jupyter Notebook)\n",
    "#### This project elaborates on how to create a Jupyter Notebook, insert code and markdown cells, and share the notebook through a GitHub."
   ]
  },
  {
   "cell_type": "code",
   "execution_count": null,
   "id": "f01058a6-8d25-4924-8d04-66df8cd419b5",
   "metadata": {},
   "outputs": [],
   "source": []
  },
  {
   "cell_type": "code",
   "execution_count": 27,
   "id": "f67ba9f9-299f-4ec8-84ae-124ef44ad8fe",
   "metadata": {},
   "outputs": [],
   "source": [
    "# Importing Pandas\n",
    "import pandas as pd"
   ]
  },
  {
   "cell_type": "markdown",
   "id": "c57a22ec-77c1-4cbf-898a-e23a27dbd79a",
   "metadata": {},
   "source": [
    "### Exercise 1 - Giving a Jupyter Notebook a file name \n",
    "The newly created Jupyter Notebook is called 'DataScienceEcosystem.ipynb'"
   ]
  },
  {
   "cell_type": "code",
   "execution_count": null,
   "id": "56d37bf5-b7d0-46cc-bc85-b4701cc613ec",
   "metadata": {},
   "outputs": [],
   "source": []
  },
  {
   "cell_type": "markdown",
   "id": "effe69fd-a9f4-4db1-8ab9-89f5d0602d0e",
   "metadata": {},
   "source": [
    "### Exercise 2 - The Title of the Notebook\n",
    "# Data Science Tools and Ecosystem"
   ]
  },
  {
   "cell_type": "code",
   "execution_count": null,
   "id": "06ed32b5-cdcd-43d3-b7a3-60f6009b7392",
   "metadata": {},
   "outputs": [],
   "source": []
  },
  {
   "cell_type": "markdown",
   "id": "ba1b7127-9ceb-43f4-8fd5-7158fa6d46b2",
   "metadata": {},
   "source": [
    "### Exercise 3 - An Introduction\n",
    "In this notebook, Data Science Tools and Ecosystem are summarized."
   ]
  },
  {
   "cell_type": "markdown",
   "id": "e5b7075d-2d32-410d-8883-09d06998b0c0",
   "metadata": {},
   "source": [
    "### Objectives\n",
    "- To list popular Data Science languages\n",
    "- To list some Data Science libraries\n",
    "- To create a table of Data Science tools\n",
    "- To write a code to multiply and add integers\n",
    "- To write a code to convert minutes into hours\n",
    "- To indicate the Author's name\n",
    "- To share through GitHub"
   ]
  },
  {
   "cell_type": "markdown",
   "id": "d6098d09-edec-4f64-817b-c224e50e26f1",
   "metadata": {},
   "source": [
    "### Exercise 4 - Some List of Data Science Languages\n",
    "1. Python\n",
    "2. R\n",
    "3. SQL\n",
    "4. Scala\n",
    "5. Julia\n",
    "6. C++\n",
    "7. JS"
   ]
  },
  {
   "cell_type": "markdown",
   "id": "5de3d004-9443-4b42-a3cf-fa6f67ffa1ec",
   "metadata": {},
   "source": [
    "### Exercise 5 - Some List of Data Science Libraries\n",
    "1. Matplotlib\n",
    "2. Numpy\n",
    "3. Pandas\n",
    "4. Scikit-learn\n",
    "5. PyTorch\n",
    "6. TensorFlow\n",
    "7. Keras"
   ]
  },
  {
   "cell_type": "markdown",
   "id": "0fd9ff3f-71a9-4326-84ec-a30429717397",
   "metadata": {},
   "source": [
    "### Exercise 6 - Creating a Table of Data Science Tools\n"
   ]
  },
  {
   "cell_type": "code",
   "execution_count": 28,
   "id": "f3ef2eaf-b86e-4be5-bd81-eecffd8cc71d",
   "metadata": {},
   "outputs": [],
   "source": [
    "# Creating a Pandas series\n",
    "tools = [\"Jupyter Notebook\", \"RStudio\", \"Apache Zeppelin\"]\n",
    "data_science_tools = pd.Series(tools)"
   ]
  },
  {
   "cell_type": "code",
   "execution_count": 44,
   "id": "381dd103-7955-4683-a3e4-d4fea18385c4",
   "metadata": {},
   "outputs": [
    {
     "data": {
      "text/plain": [
       "0    Jupyter Notebook\n",
       "1             RStudio\n",
       "2     Apache Zeppelin\n",
       "dtype: object"
      ]
     },
     "execution_count": 44,
     "metadata": {},
     "output_type": "execute_result"
    }
   ],
   "source": [
    "data_science_tools"
   ]
  },
  {
   "cell_type": "markdown",
   "id": "13cb3009-3993-428d-bd72-17c57b130f05",
   "metadata": {},
   "source": [
    "### Exercise 7 - Below are a few examples of evaluating arithmetic expressions in Python"
   ]
  },
  {
   "cell_type": "markdown",
   "id": "dfa984ca-4c3f-4194-aaed-ad8b52d9fb54",
   "metadata": {},
   "source": [
    "### Exercise 8 - Creating a code to multiply and add integers"
   ]
  },
  {
   "cell_type": "code",
   "execution_count": 30,
   "id": "c7c9d467-850f-4cfa-84df-9b2385c2a14b",
   "metadata": {},
   "outputs": [
    {
     "data": {
      "text/plain": [
       "17"
      ]
     },
     "execution_count": 30,
     "metadata": {},
     "output_type": "execute_result"
    }
   ],
   "source": [
    "# This a simple arithmetic expression to multiply then add integers  \n",
    "(3*4) + 5"
   ]
  },
  {
   "cell_type": "markdown",
   "id": "f67142aa-5736-4216-945e-064de0c1fd11",
   "metadata": {},
   "source": [
    "### Exercise 9 - Creating a code to convert minutes to hours"
   ]
  },
  {
   "cell_type": "code",
   "execution_count": 45,
   "id": "3930f8e0-0b88-4027-b8c6-3d6105ff0fe8",
   "metadata": {},
   "outputs": [
    {
     "data": {
      "text/plain": [
       "3.3333333333333335"
      ]
     },
     "execution_count": 45,
     "metadata": {},
     "output_type": "execute_result"
    }
   ],
   "source": [
    "# Converting 200 minutes into hours by dividing by 60\n",
    "(200/60)"
   ]
  },
  {
   "cell_type": "markdown",
   "id": "fad80bc2-3e33-448d-a7af-598892118ca6",
   "metadata": {},
   "source": [
    "### Exercise 11 - Indicate the Author's name\n",
    "## Author:\n",
    "Reuben Junior Asare"
   ]
  },
  {
   "cell_type": "code",
   "execution_count": null,
   "id": "dd8842da-ccb8-44ee-9a8f-cc06717a663c",
   "metadata": {},
   "outputs": [],
   "source": []
  }
 ],
 "metadata": {
  "kernelspec": {
   "display_name": "Python 3 (ipykernel)",
   "language": "python",
   "name": "python3"
  },
  "language_info": {
   "codemirror_mode": {
    "name": "ipython",
    "version": 3
   },
   "file_extension": ".py",
   "mimetype": "text/x-python",
   "name": "python",
   "nbconvert_exporter": "python",
   "pygments_lexer": "ipython3",
   "version": "3.13.2"
  }
 },
 "nbformat": 4,
 "nbformat_minor": 5
}
